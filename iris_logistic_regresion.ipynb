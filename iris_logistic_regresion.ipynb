{
 "cells": [
  {
   "cell_type": "code",
   "execution_count": 1,
   "metadata": {},
   "outputs": [
    {
     "name": "stdout",
     "output_type": "stream",
     "text": [
      "Iris Data Shape (150, 4)\n",
      "Label Data Shape (150,)\n",
      "Length train iris dataset:  112\n"
     ]
    }
   ],
   "source": [
    "# Load iris datasets\n",
    "from sklearn import datasets\n",
    "dataset = datasets.load_iris()\n",
    "print(\"Iris Data Shape\" , dataset.data.shape)\n",
    "print(\"Label Data Shape\", dataset.target.shape)\n",
    "\n",
    "# Split dataset to train and test\n",
    "from sklearn.model_selection import train_test_split\n",
    "x_train, x_test, y_train, y_test = train_test_split(dataset.data, dataset.target, test_size=0.25, random_state=0)\n",
    "\n",
    "# Len train dataset\n",
    "print(\"Length train iris dataset: \", len(x_train))"
   ]
  },
  {
   "cell_type": "code",
   "execution_count": 2,
   "metadata": {},
   "outputs": [
    {
     "name": "stdout",
     "output_type": "stream",
     "text": [
      "LogisticRegression(C=1.0, class_weight=None, dual=False, fit_intercept=True,\n",
      "          intercept_scaling=1, max_iter=100, multi_class='ovr', n_jobs=1,\n",
      "          penalty='l2', random_state=None, solver='liblinear', tol=0.0001,\n",
      "          verbose=0, warm_start=False)\n"
     ]
    }
   ],
   "source": [
    "# Logistic regresion model\n",
    "from sklearn.linear_model import LogisticRegression\n",
    "model = LogisticRegression()\n",
    "model.fit(x_train, y_train)\n",
    "print(model)"
   ]
  },
  {
   "cell_type": "code",
   "execution_count": 5,
   "metadata": {},
   "outputs": [
    {
     "name": "stdout",
     "output_type": "stream",
     "text": [
      "Accuracy Score:  0.868421052631579\n",
      "Classfication Report:\n",
      "               precision    recall  f1-score   support\n",
      "\n",
      "          0       1.00      1.00      1.00        13\n",
      "          1       1.00      0.69      0.81        16\n",
      "          2       0.64      1.00      0.78         9\n",
      "\n",
      "avg / total       0.92      0.87      0.87        38\n",
      "\n",
      "Confusion Matrix:\n",
      "  [[13  0  0]\n",
      " [ 0 11  5]\n",
      " [ 0  0  9]]\n"
     ]
    }
   ],
   "source": [
    "# Calculate accurate\n",
    "predicted = model.predict(x_test)\n",
    "# Accurate\n",
    "from sklearn import metrics\n",
    "score = metrics.accuracy_score(y_test, predicted)\n",
    "print(\"Accuracy Score: \", score)\n",
    "cr = metrics.classification_report(y_test, predicted)\n",
    "print(\"Classfication Report:\\n \", cr)\n",
    "cm = metrics.confusion_matrix(y_test, predicted)\n",
    "print(\"Confusion Matrix:\\n \", cm)"
   ]
  },
  {
   "cell_type": "code",
   "execution_count": 7,
   "metadata": {},
   "outputs": [
    {
     "data": {
      "image/png": "[encoded data removed]",
      "text/plain": [
       "<Figure size 648x648 with 2 Axes>"
      ]
     },
     "metadata": {},
     "output_type": "display_data"
    }
   ],
   "source": [
    "# Seaborn\n",
    "import matplotlib.pyplot as plt\n",
    "import seaborn as sns\n",
    "plt.figure(figsize=(9,9))\n",
    "sns.heatmap(cm, annot=True, fmt=\".3f\", linewidths=.5, square = True, cmap = 'Blues_r');\n",
    "plt.ylabel('Actual label');\n",
    "plt.xlabel('Predicted label');\n",
    "all_sample_title = 'Accuracy Score: {0}'.format(score)\n",
    "plt.title(all_sample_title, size = 15);"
   ]
  },
  {
   "cell_type": "code",
   "execution_count": null,
   "metadata": {},
   "outputs": [],
   "source": []
  }
 ],
 "metadata": {
  "kernelspec": {
   "display_name": "Python 3",
   "language": "python",
   "name": "python3"
  },
  "language_info": {
   "codemirror_mode": {
    "name": "ipython",
    "version": 3
   },
   "file_extension": ".py",
   "mimetype": "text/x-python",
   "name": "python",
   "nbconvert_exporter": "python",
   "pygments_lexer": "ipython3",
   "version": "3.6.5"
  }
 },
 "nbformat": 4,
 "nbformat_minor": 2
}
